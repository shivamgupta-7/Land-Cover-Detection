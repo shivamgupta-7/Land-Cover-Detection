{
  "nbformat": 4,
  "nbformat_minor": 0,
  "metadata": {
    "colab": {
      "provenance": [],
      "collapsed_sections": [],
      "machine_shape": "hm"
    },
    "kernelspec": {
      "name": "python3",
      "display_name": "Python 3"
    },
    "accelerator": "GPU"
  },
  "cells": [
    {
      "cell_type": "markdown",
      "metadata": {
        "id": "view-in-github"
      },
      "source": [
        "<a href=\"https://colab.research.google.com/github/satyajitghana/TSAI-DeepVision-EVA4.0/blob/master/Utils/Colab_25GBRAM_GPU.ipynb\" target=\"_parent\"><img src=\"https://colab.research.google.com/assets/colab-badge.svg\" alt=\"Open In Colab\"/></a>"
      ]
    },
    {
      "cell_type": "code",
      "metadata": {
        "id": "ftpqdjq_31HP",
        "colab": {
          "base_uri": "https://localhost:8080/",
          "height": 35
        },
        "outputId": "d61f0d0b-2f2a-4a97-f14c-2e31a8e31556"
      },
      "source": [
        "import tensorflow as tf\n",
        "\n",
        "tf.test.gpu_device_name()"
      ],
      "execution_count": null,
      "outputs": [
        {
          "output_type": "execute_result",
          "data": {
            "application/vnd.google.colaboratory.intrinsic+json": {
              "type": "string"
            },
            "text/plain": [
              "'/device:GPU:0'"
            ]
          },
          "metadata": {
            "tags": []
          },
          "execution_count": 3
        }
      ]
    },
    {
      "cell_type": "code",
      "metadata": {
        "id": "h-JoaIcK4FRX"
      },
      "source": [
        "import numpy as np \n",
        "import pandas as pd \n",
        "from glob import glob"
      ],
      "execution_count": null,
      "outputs": []
    },
    {
      "cell_type": "code",
      "metadata": {
        "id": "JjIXZDBm4FkZ"
      },
      "source": [
        "name_train1 = sorted(glob(\"./data/TRAIN/*\"))\n",
        "name_train2 = sorted(glob(\"./data/TRAIN2/*\"))\n",
        "# name_test = sorted(glob(\"./data/TEST/*\"))\n",
        "\n",
        "y_train = np.load(\"./data/y_train.npy\")\n",
        "print(len(name_train1))\n",
        "print(len(name_train2))\n",
        "print(len(y_train))"
      ],
      "execution_count": null,
      "outputs": []
    },
    {
      "cell_type": "code",
      "metadata": {
        "id": "Z_y8WesjOojn",
        "colab": {
          "base_uri": "https://localhost:8080/",
          "height": 34
        },
        "outputId": "34e9a47f-5ba6-44db-e4a1-c4ac1d67a6e8"
      },
      "source": [
        "name_train1.extend(name_train2)\n",
        "print(len(name_train1))"
      ],
      "execution_count": null,
      "outputs": [
        {
          "output_type": "stream",
          "text": [
            "20000\n"
          ],
          "name": "stdout"
        }
      ]
    },
    {
      "cell_type": "code",
      "metadata": {
        "id": "9lDcUIpR4FsQ",
        "colab": {
          "base_uri": "https://localhost:8080/",
          "height": 390
        },
        "outputId": "70acfb45-e760-46bb-d6e4-3c9e42b6a7c7"
      },
      "source": [
        "import matplotlib.pyplot as plt\n",
        "from PIL import Image\n",
        "\n",
        "num = np.random.randint(len(name_train1))\n",
        "plt.figure(figsize=(6, 6))\n",
        "plt.title(\"Image {} : {}\".format(num, y_train[num]))\n",
        "plt.imshow(Image.open(name_train1[num]));"
      ],
      "execution_count": null,
      "outputs": [
        {
          "output_type": "display_data",
          "data": {
            "image/png": "[encoded data removed]",
            "text/plain": [
              "<Figure size 432x432 with 1 Axes>"
            ]
          },
          "metadata": {
            "tags": [],
            "needs_background": "light"
          }
        }
      ]
    },
    {
      "cell_type": "code",
      "metadata": {
        "id": "sJcaPtK14F4q",
        "colab": {
          "base_uri": "https://localhost:8080/",
          "height": 50
        },
        "outputId": "7bfaf0c7-dff6-41cf-93fd-fd61100a8f23"
      },
      "source": [
        "X_train = np.array([np.array(Image.open(jpg)) for jpg in name_train1])\n",
        "# X_test = np.array([np.array(Image.open(jpg)) for jpg in name_test])\n",
        "\n",
        "\n",
        "print (X_train.shape)\n",
        "print (y_train.shape)"
      ],
      "execution_count": null,
      "outputs": [
        {
          "output_type": "stream",
          "text": [
            "(20000, 64, 64, 3)\n",
            "(20000, 10)\n"
          ],
          "name": "stdout"
        }
      ]
    },
    {
      "cell_type": "code",
      "metadata": {
        "id": "PFBm-EKf4F_1",
        "colab": {
          "base_uri": "https://localhost:8080/",
          "height": 118
        },
        "outputId": "9aeabd53-07e2-47b1-8ec8-74911cd61864"
      },
      "source": [
        "print (y_train[:30])"
      ],
      "execution_count": null,
      "outputs": [
        {
          "output_type": "stream",
          "text": [
            "['Forest' 'PermanentCrop' 'HerbaceousVegetation' 'Pasture' 'Highway'\n",
            " 'Forest' 'Residential' 'Residential' 'River' 'Pasture' 'Pasture'\n",
            " 'Residential' 'PermanentCrop' 'Forest' 'HerbaceousVegetation'\n",
            " 'Residential' 'SeaLake' 'SeaLake' 'Forest' 'HerbaceousVegetation'\n",
            " 'Forest' 'Industrial' 'AnnualCrop' 'Industrial' 'Residential' 'SeaLake'\n",
            " 'AnnualCrop' 'HerbaceousVegetation' 'Residential' 'PermanentCrop']\n"
          ],
          "name": "stdout"
        }
      ]
    },
    {
      "cell_type": "code",
      "metadata": {
        "id": "W5Lcpf4D4GDs",
        "colab": {
          "base_uri": "https://localhost:8080/",
          "height": 67
        },
        "outputId": "965294be-1c73-4dfb-8477-5f391d8c0528"
      },
      "source": [
        "from sklearn.preprocessing import OneHotEncoder\n",
        "\n",
        "print (f\"Shape label raw : {y_train.shape}\")\n",
        "\n",
        "encoder = OneHotEncoder()\n",
        "y_train = encoder.fit_transform(y_train.reshape(-1, 1)).toarray()\n",
        "\n",
        "print (f\"Shape label One Hot Encoded : {y_train.shape}\")\n",
        "print (f\"Label for y_train[0] : {y_train[3]}\")"
      ],
      "execution_count": null,
      "outputs": [
        {
          "output_type": "stream",
          "text": [
            "Shape label raw : (20000,)\n",
            "Shape label One Hot Encoded : (20000, 10)\n",
            "Label for y_train[0] : [0. 0. 0. 0. 0. 1. 0. 0. 0. 0.]\n"
          ],
          "name": "stdout"
        }
      ]
    },
    {
      "cell_type": "code",
      "metadata": {
        "id": "MtL6vgqf5MaF"
      },
      "source": [
        "X_train, X_valid = X_train[:18000], X_train[18000:]\n",
        "y_train, y_valid = y_train[:18000], y_train[18000:]"
      ],
      "execution_count": null,
      "outputs": []
    },
    {
      "cell_type": "code",
      "metadata": {
        "id": "NA1QnRZzSBdv",
        "colab": {
          "base_uri": "https://localhost:8080/",
          "height": 34
        },
        "outputId": "20b1104a-ce7e-4065-a89b-aac9e10414d4"
      },
      "source": [
        "# X_valid = X_valid[:4500]\n",
        "# y_valid = y_valid[:4500]\n",
        "print(X_valid.shape)"
      ],
      "execution_count": null,
      "outputs": [
        {
          "output_type": "stream",
          "text": [
            "(2000, 64, 64, 3)\n"
          ],
          "name": "stdout"
        }
      ]
    },
    {
      "cell_type": "code",
      "metadata": {
        "id": "DJJS6jMK5MpF"
      },
      "source": [
        "X_train, X_valid = X_train/255, X_valid/255\n",
        "# X_train, X_valid, X_test = X_train*255, X_valid*255, X_test*255"
      ],
      "execution_count": null,
      "outputs": []
    },
    {
      "cell_type": "code",
      "metadata": {
        "id": "F2JtkyLCkT2R"
      },
      "source": [],
      "execution_count": null,
      "outputs": []
    },
    {
      "cell_type": "code",
      "metadata": {
        "id": "X95VLBgi4F8m",
        "colab": {
          "base_uri": "https://localhost:8080/",
          "height": 34
        },
        "outputId": "a70ebfa0-4cee-45d3-aa1c-931309421644"
      },
      "source": [
        "import keras \n",
        "from keras.models import Sequential, save_model, load_model\n",
        "from keras.layers import Dense, Conv2D, Flatten, MaxPooling2D, Dropout\n",
        "\n",
        "model = Sequential()\n",
        "model.add(Conv2D(32, kernel_size = (3, 3), activation='relu', input_shape=(64, 64, 3)))\n",
        "model.add(Dropout(0.25))\n",
        "model.add(Conv2D(64, kernel_size = (3, 3), activation='relu'))\n",
        "model.add(Dropout(0.25))\n",
        "model.add(Conv2D(32, kernel_size = (3, 3), activation='relu'))\n",
        "model.add(MaxPooling2D(pool_size=(2,2)))\n",
        "model.add(Dropout(0.25))\n",
        "model.add(Conv2D(32, kernel_size = (3, 3), activation='relu'))\n",
        "model.add(Dropout(0.25))\n",
        "model.add(Conv2D(64, kernel_size = (3, 3), activation='relu'))\n",
        "model.add(Dropout(0.25))\n",
        "model.add(Conv2D(32, kernel_size = (3, 3), activation='relu'))\n",
        "model.add(Dropout(0.25))\n",
        "model.add(Flatten())\n",
        "model.add(Dense(128, activation='relu'))\n",
        "model.add(Dense(10, activation = 'softmax'))"
      ],
      "execution_count": null,
      "outputs": [
        {
          "output_type": "stream",
          "text": [
            "Using TensorFlow backend.\n"
          ],
          "name": "stderr"
        }
      ]
    },
    {
      "cell_type": "code",
      "metadata": {
        "id": "KBaJvYNI5VpL"
      },
      "source": [
        "model.compile(loss=keras.losses.categorical_crossentropy,\n",
        "              optimizer=keras.optimizers.Adam(),\n",
        "              metrics=['accuracy'])"
      ],
      "execution_count": null,
      "outputs": []
    },
    {
      "cell_type": "code",
      "metadata": {
        "id": "nq_TPddK5Vzh",
        "colab": {
          "base_uri": "https://localhost:8080/",
          "height": 958
        },
        "outputId": "d89a4911-cae4-48ee-d709-da24691828a5"
      },
      "source": [
        "history = model.fit(X_train, y_train, batch_size = 128, \n",
        "                    epochs=28)"
      ],
      "execution_count": null,
      "outputs": [
        {
          "output_type": "stream",
          "text": [
            "Epoch 1/28\n",
            "18000/18000 [==============================] - 14s 757us/step - loss: 1.5930 - accuracy: 0.3803\n",
            "Epoch 2/28\n",
            "18000/18000 [==============================] - 7s 380us/step - loss: 1.0851 - accuracy: 0.6052\n",
            "Epoch 3/28\n",
            "18000/18000 [==============================] - 7s 380us/step - loss: 0.8681 - accuracy: 0.6876\n",
            "Epoch 4/28\n",
            "18000/18000 [==============================] - 7s 379us/step - loss: 0.7667 - accuracy: 0.7237\n",
            "Epoch 5/28\n",
            "18000/18000 [==============================] - 7s 380us/step - loss: 0.6774 - accuracy: 0.7578\n",
            "Epoch 6/28\n",
            "18000/18000 [==============================] - 7s 382us/step - loss: 0.6003 - accuracy: 0.7900\n",
            "Epoch 7/28\n",
            "18000/18000 [==============================] - 7s 380us/step - loss: 0.5457 - accuracy: 0.8070\n",
            "Epoch 8/28\n",
            "18000/18000 [==============================] - 7s 379us/step - loss: 0.4672 - accuracy: 0.8347\n",
            "Epoch 9/28\n",
            "18000/18000 [==============================] - 7s 380us/step - loss: 0.4407 - accuracy: 0.8464\n",
            "Epoch 10/28\n",
            "18000/18000 [==============================] - 7s 379us/step - loss: 0.3930 - accuracy: 0.8598\n",
            "Epoch 11/28\n",
            "18000/18000 [==============================] - 7s 380us/step - loss: 0.3353 - accuracy: 0.8833\n",
            "Epoch 12/28\n",
            "18000/18000 [==============================] - 7s 380us/step - loss: 0.3109 - accuracy: 0.8929\n",
            "Epoch 13/28\n",
            "18000/18000 [==============================] - 7s 379us/step - loss: 0.2700 - accuracy: 0.9039\n",
            "Epoch 14/28\n",
            "18000/18000 [==============================] - 7s 379us/step - loss: 0.2350 - accuracy: 0.9153\n",
            "Epoch 15/28\n",
            "18000/18000 [==============================] - 7s 382us/step - loss: 0.2068 - accuracy: 0.9277\n",
            "Epoch 16/28\n",
            "18000/18000 [==============================] - 7s 379us/step - loss: 0.1968 - accuracy: 0.9281\n",
            "Epoch 17/28\n",
            "18000/18000 [==============================] - 7s 379us/step - loss: 0.1736 - accuracy: 0.9391\n",
            "Epoch 18/28\n",
            "18000/18000 [==============================] - 7s 379us/step - loss: 0.1592 - accuracy: 0.9450\n",
            "Epoch 19/28\n",
            "18000/18000 [==============================] - 7s 379us/step - loss: 0.1436 - accuracy: 0.9481\n",
            "Epoch 20/28\n",
            "18000/18000 [==============================] - 7s 379us/step - loss: 0.1503 - accuracy: 0.9461\n",
            "Epoch 21/28\n",
            "18000/18000 [==============================] - 7s 379us/step - loss: 0.1332 - accuracy: 0.9527\n",
            "Epoch 22/28\n",
            "18000/18000 [==============================] - 7s 379us/step - loss: 0.1054 - accuracy: 0.9630\n",
            "Epoch 23/28\n",
            "18000/18000 [==============================] - 7s 379us/step - loss: 0.1215 - accuracy: 0.9574\n",
            "Epoch 24/28\n",
            "18000/18000 [==============================] - 7s 381us/step - loss: 0.0965 - accuracy: 0.9668\n",
            "Epoch 25/28\n",
            "18000/18000 [==============================] - 7s 379us/step - loss: 0.1025 - accuracy: 0.9642\n",
            "Epoch 26/28\n",
            "18000/18000 [==============================] - 7s 378us/step - loss: 0.0957 - accuracy: 0.9680\n",
            "Epoch 27/28\n",
            "18000/18000 [==============================] - 7s 379us/step - loss: 0.0781 - accuracy: 0.9737\n",
            "Epoch 28/28\n",
            "18000/18000 [==============================] - 7s 379us/step - loss: 0.0851 - accuracy: 0.9702\n"
          ],
          "name": "stdout"
        }
      ]
    },
    {
      "cell_type": "code",
      "metadata": {
        "id": "zYTmlXHz5fTk",
        "colab": {
          "base_uri": "https://localhost:8080/",
          "height": 50
        },
        "outputId": "0419b3e6-fe62-475c-9e23-681dede2e41f"
      },
      "source": [
        "loss, metrics = model.evaluate(X_valid, y_valid)\n",
        "\n",
        "print (metrics)"
      ],
      "execution_count": null,
      "outputs": [
        {
          "output_type": "stream",
          "text": [
            "2000/2000 [==============================] - 0s 247us/step\n",
            "0.8339999914169312\n"
          ],
          "name": "stdout"
        }
      ]
    },
    {
      "cell_type": "code",
      "metadata": {
        "id": "Fle-j3ggC-7U"
      },
      "source": [
        "filepath = './saved_model'\n",
        "save_model(model, filepath)"
      ],
      "execution_count": null,
      "outputs": []
    },
    {
      "cell_type": "code",
      "metadata": {
        "id": "tTLNRdYKC-vA",
        "colab": {
          "base_uri": "https://localhost:8080/",
          "height": 34
        },
        "outputId": "32fa71b8-f962-49c7-933f-a1a0bf5a2947"
      },
      "source": [
        "!ls"
      ],
      "execution_count": null,
      "outputs": [
        {
          "output_type": "stream",
          "text": [
            "data  saved_model  testers  to_test\n"
          ],
          "name": "stdout"
        }
      ]
    },
    {
      "cell_type": "markdown",
      "metadata": {
        "id": "9cYkftXnWrOC"
      },
      "source": [
        "START RUNNING FROM HERE IF YOU WANT TO DIRECTLY ACCESS SAVED MODEL AND BEGIN TESTING"
      ]
    },
    {
      "cell_type": "code",
      "metadata": {
        "id": "cU345kUVWmmG"
      },
      "source": [
        "filepath = './saved_model'\n",
        "model = load_model(filepath, compile = True)"
      ],
      "execution_count": null,
      "outputs": []
    },
    {
      "cell_type": "code",
      "metadata": {
        "id": "2RAI1UXNtYOO"
      },
      "source": [
        "import cv2\n",
        "img = cv2.imread('./data/agri1.jpg') #Replace this image here with the image you want to split into 64x64 sized tiles\n",
        "for r in range(0,img.shape[0],64):\n",
        "    for c in range(0,img.shape[1],64):\n",
        "        cv2.imwrite(f\"testers/img{r}_{c}.png\",img[r:r+64, c:c+64,:])# enter the path u want to store these tiles"
      ],
      "execution_count": null,
      "outputs": []
    },
    {
      "cell_type": "markdown",
      "metadata": {
        "id": "8kEcSlfbW-5F"
      },
      "source": [
        "Here, make sure from the tiles created, choose n number of samples, and store them in a new folder called \"to_test\""
      ]
    },
    {
      "cell_type": "code",
      "metadata": {
        "id": "wQZdDOrAJPJk",
        "colab": {
          "base_uri": "https://localhost:8080/",
          "height": 34
        },
        "outputId": "6f772a9b-1899-450b-b538-b0106cce9157"
      },
      "source": [
        "samples=sorted(glob(\"./to_test/*\"))\n",
        "print(samples)"
      ],
      "execution_count": null,
      "outputs": [
        {
          "output_type": "stream",
          "text": [
            "['./to_test/Copy of img0_640.png', './to_test/Copy of img192_320.png', './to_test/Copy of img192_640.png', './to_test/Copy of img256_128.png', './to_test/Copy of img320_0.png']\n"
          ],
          "name": "stdout"
        }
      ]
    },
    {
      "cell_type": "code",
      "metadata": {
        "id": "am6OgWnYJPYM",
        "colab": {
          "base_uri": "https://localhost:8080/",
          "height": 34
        },
        "outputId": "f1ef0f6b-dc74-4067-9180-bc9ddb0e24de"
      },
      "source": [
        "sample_imgs = np.array([np.array(Image.open(jpg)) for jpg in samples])\n",
        "print(sample_imgs.shape)"
      ],
      "execution_count": null,
      "outputs": [
        {
          "output_type": "stream",
          "text": [
            "(5, 64, 64, 3)\n"
          ],
          "name": "stdout"
        }
      ]
    },
    {
      "cell_type": "code",
      "metadata": {
        "id": "U7ofM_xQL0Oc",
        "colab": {
          "base_uri": "https://localhost:8080/",
          "height": 34
        },
        "outputId": "95824fbe-069d-4719-bcb4-802c6a177f1d"
      },
      "source": [
        "predictions = model.predict(sample_imgs)\n",
        "# for i in predictions:\n",
        "#     print(i)\n",
        "classes = np.argmax(predictions, axis = 1)\n",
        "print(classes)# Output will be numbers from 0-9, depicting the corresponding class to which the test image belongs to. Refer documentation to see classes and their values"
      ],
      "execution_count": null,
      "outputs": [
        {
          "output_type": "stream",
          "text": [
            "[4 0 4 9 4]\n"
          ],
          "name": "stdout"
        }
      ]
    }
  ]
}